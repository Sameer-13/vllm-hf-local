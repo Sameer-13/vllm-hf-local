{
  "cells": [
    {
      "cell_type": "markdown",
      "metadata": {
        "id": "__8crnA-n060"
      },
      "source": [
        "# vLLM with Llama-3.2-1B-it for Reveiw Sentiment Analysis"
      ]
    },
    {
      "cell_type": "markdown",
      "metadata": {
        "id": "lvRAO94HoDLo"
      },
      "source": [
        "## 1. Setup"
      ]
    },
    {
      "cell_type": "code",
      "execution_count": null,
      "metadata": {},
      "outputs": [],
      "source": [
        "!pip install -r requirements.txt"
      ]
    },
    {
      "cell_type": "code",
      "execution_count": null,
      "metadata": {
        "id": "fxDLLXlZoIYs"
      },
      "outputs": [],
      "source": [
        "!hf auth login"
      ]
    },
    {
      "cell_type": "markdown",
      "metadata": {
        "id": "KfesN7HQg3i3"
      },
      "source": [
        "## 2. Configeration"
      ]
    },
    {
      "cell_type": "code",
      "execution_count": null,
      "metadata": {
        "id": "6McWFcsRg7U9"
      },
      "outputs": [],
      "source": [
        "model = \"meta-llama/Llama-3.2-1B-Instruct\"\n",
        "api_key = \"tokenX\""
      ]
    },
    {
      "cell_type": "code",
      "execution_count": null,
      "metadata": {
        "id": "nip8O2uty4Wu"
      },
      "outputs": [],
      "source": [
        "# Stop any old servers\n",
        "!pkill -f \"vllm serve\" || true\n",
        "\n",
        "# Run in background\n",
        "!nohup vllm serve $model \\\n",
        "  --host 127.0.0.1 \\\n",
        "  --port 8000 \\\n",
        "  --dtype auto \\\n",
        "  --api-key $api_key &"
      ]
    },
    {
      "cell_type": "code",
      "execution_count": null,
      "metadata": {
        "id": "cl2nWrI6dc3U"
      },
      "outputs": [],
      "source": [
        "for i in range(30):\n",
        "  # quick peek at the last lines of the log (non-blocking)\n",
        "  !sleep 2; tail -n 30 nohup.out"
      ]
    },
    {
      "cell_type": "markdown",
      "metadata": {
        "id": "jAn7OgeGfTl7"
      },
      "source": [
        "## 3. Testing Reachability"
      ]
    },
    {
      "cell_type": "code",
      "execution_count": null,
      "metadata": {
        "id": "xNPqGvqyfTYR"
      },
      "outputs": [],
      "source": [
        "import time, httpx, subprocess\n",
        "\n",
        "BASE_URL = \"http://127.0.0.1:8000/v1\"\n",
        "HEADERS  = {\"Authorization\": f\"Bearer {api_key}\"}\n",
        "\n",
        "ready = False\n",
        "for i in range(180):  # up to ~3 minutes on first load\n",
        "    try:\n",
        "        # 1) unauthenticated health probe\n",
        "        if httpx.get(\"http://127.0.0.1:8000/health\", timeout=1.0).status_code == 200:\n",
        "            # 2) authenticated check on /v1/models\n",
        "            r = httpx.get(f\"{BASE_URL}/models\", headers=HEADERS, timeout=2.0)\n",
        "            if r.status_code == 200:\n",
        "                print(\"vLLM is ready ✅\")\n",
        "                ready = True\n",
        "                break\n",
        "    except Exception:\n",
        "        pass\n",
        "    if i % 10 == 0:\n",
        "        print(\"waiting for vLLM…\")\n",
        "    time.sleep(1)\n",
        "\n",
        "if not ready:\n",
        "    print(\"Server not ready. Recent logs:\")\n",
        "    print(subprocess.run([\"bash\",\"-lc\",\"tail -n 80 nohup.out\"], capture_output=True, text=True).stdout)"
      ]
    },
    {
      "cell_type": "markdown",
      "metadata": {
        "id": "UUp2Og8Sop3e"
      },
      "source": [
        "## 4. Inferencing"
      ]
    },
    {
      "cell_type": "code",
      "execution_count": null,
      "metadata": {
        "id": "HgsJE3CFpU5v"
      },
      "outputs": [],
      "source": [
        "from openai import OpenAI\n",
        "\n",
        "review_text = \"الطعام لذيذ والشيش افضل شيش ذقته روعه ويحتاج فقط اعاده تأهيل المبنى والتوسعه\"\n",
        "\n",
        "prompt = f\"\"\"\n",
        "You are given a customer review in Arabic.\n",
        "Evaluate how satisfied the customer seems with the place, its condition, and its services.\n",
        "Output a single integer score from 1 to 10, where:\n",
        "1 = very unhappy and dissatisfied\n",
        "10 = extremely happy and satisfied\n",
        "\n",
        "ONLY output the integer, nothing else.\n",
        "\n",
        "Review: {review_text}\n",
        "\"\"\"\n",
        "\n",
        "client = OpenAI(base_url=BASE_URL, api_key=api_key)\n",
        "\n",
        "resp = client.chat.completions.create(\n",
        "    model=model,\n",
        "    messages=[{\"role\": \"user\", \"content\": prompt}],\n",
        "    max_tokens=3,\n",
        ")\n",
        "\n",
        "predicted_rating = resp.choices[0].message.content.strip()\n",
        "print(predicted_rating)\n"
      ]
    }
  ],
  "metadata": {
    "accelerator": "TPU",
    "colab": {
      "gpuType": "V28",
      "provenance": []
    },
    "kernelspec": {
      "display_name": "Python 3",
      "name": "python3"
    },
    "language_info": {
      "name": "python"
    }
  },
  "nbformat": 4,
  "nbformat_minor": 0
}
